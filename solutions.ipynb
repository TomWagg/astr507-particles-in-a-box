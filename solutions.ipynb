{
 "cells": [
  {
   "cell_type": "markdown",
   "id": "05ba6355-37c2-4589-af87-fe540091da78",
   "metadata": {},
   "source": [
    "# Particles in a Box\n",
    "UW ASTR 507 Homework 1"
   ]
  },
  {
   "cell_type": "markdown",
   "id": "811649c4-70ca-49da-937c-570228a32edd",
   "metadata": {},
   "source": [
    "# General problem description and guidance"
   ]
  },
  {
   "cell_type": "markdown",
   "id": "5cb2427e-179b-4130-b39e-9e5852fbbf93",
   "metadata": {},
   "source": [
    "Numerically compute the distribution of kinetic energy of a **two**-dimensional monatomic ideal gas.\n",
    "\n",
    "Start off with equal kinetic energy, $E$, for $N$ particles in a square box, but random positions and moving in random directions. Follow the particles until they collide (be careful how you handle the collisions). Conserve momentum and energy in the collisions (see, e.g., Reif, 14.1-14.2, Feynman 39) and assume that the colliding particles hard spheres (in which case they experience an elastic force directed along the line connecting the center of the spheres when they touch). Alternatively, you may instead make the approximation that when they collide the particles receive a kick in a random direction in the center-of-mass frame (make sure you conserve energy and momentum!). Allow the cross section and number of particles to vary in your program. You can make the sides of the box reflecting or periodic."
   ]
  },
  {
   "cell_type": "markdown",
   "id": "48a2ad6a-4822-40de-a70c-1d8f7a2861e8",
   "metadata": {},
   "source": [
    "## Code framework description"
   ]
  },
  {
   "cell_type": "markdown",
   "id": "9c0c2e2c-768a-4c90-afdc-7f9a113c4648",
   "metadata": {},
   "source": []
  },
  {
   "cell_type": "markdown",
   "id": "70b3465d-584a-4b24-a6e6-fd230e97ae36",
   "metadata": {},
   "source": [
    "## Implementation TODO list"
   ]
  },
  {
   "cell_type": "code",
   "execution_count": null,
   "id": "b943ffb2-1857-4f28-9558-ae106df914d1",
   "metadata": {},
   "outputs": [],
   "source": []
  },
  {
   "cell_type": "markdown",
   "id": "07d68df3-6fdb-48d0-8d8c-6d98028ecdbb",
   "metadata": {},
   "source": [
    "# Sandbox\n",
    "We recommend that you use this space to try out your code, visualise the particles and check that everything looks right. Note that these cells won't work until you implement some things!"
   ]
  },
  {
   "cell_type": "markdown",
   "id": "335f237f-1975-4c1e-b0f7-d5c1ddb6bfaa",
   "metadata": {
    "tags": []
   },
   "source": [
    "# Solutions"
   ]
  },
  {
   "cell_type": "markdown",
   "id": "a2a7e8e5-b19a-46c3-a039-81a9f4a43270",
   "metadata": {},
   "source": [
    "## 1a - Code summary\n",
    "Write a detailed summary of what choices you make in your code and how it works. Specifically, address the dimensions you use for velocity, mass, energy, length, and time. Discuss how you determine if a collision has occurred, what equations you solve during a collision, and how you handle the box boundaries. Email me your code, preferably written in Julia in a commented Jupyter notebook."
   ]
  },
  {
   "cell_type": "markdown",
   "id": "5b9be592-fe16-45e9-97b9-40311e8b8166",
   "metadata": {},
   "source": []
  },
  {
   "cell_type": "markdown",
   "id": "959bf038-008b-4583-afd8-1f63a93e25a5",
   "metadata": {},
   "source": [
    "## 1b - Snapshot Plots"
   ]
  },
  {
   "cell_type": "markdown",
   "id": "8cfb5d35-c42a-4aaa-b319-d9fefb111209",
   "metadata": {},
   "source": [
    "Make four plots for a case with 100 particles, each with a radius equal to 2\\% of the size of the box. The first two plots should show the position of the particles (and sizes if you would like) at the initial time, and another snapshot after a long enough time that the particle velocity distribution has reached a steady-state in which the initial condition is forgotten. The second two plots should show the velocity distribution of the particles at the initial and final times."
   ]
  },
  {
   "cell_type": "code",
   "execution_count": 10,
   "id": "659c6a61-296d-483e-830e-6c3fbe45cf03",
   "metadata": {},
   "outputs": [
    {
     "ename": "TypeError",
     "evalue": "unsupported operand type(s) for *: 'NoneType' and 'float'",
     "output_type": "error",
     "traceback": [
      "\u001b[0;31m---------------------------------------------------------------------------\u001b[0m",
      "\u001b[0;31mTypeError\u001b[0m                                 Traceback (most recent call last)",
      "Input \u001b[0;32mIn [10]\u001b[0m, in \u001b[0;36m<cell line: 8>\u001b[0;34m()\u001b[0m\n\u001b[1;32m      6\u001b[0m size \u001b[38;5;241m=\u001b[39m \u001b[38;5;28;01mNone\u001b[39;00m\n\u001b[1;32m      7\u001b[0m mass \u001b[38;5;241m=\u001b[39m \u001b[38;5;28;01mNone\u001b[39;00m\n\u001b[0;32m----> 8\u001b[0m radius \u001b[38;5;241m=\u001b[39m \u001b[43msize\u001b[49m\u001b[43m \u001b[49m\u001b[38;5;241;43m*\u001b[39;49m\u001b[43m \u001b[49m\u001b[38;5;241;43m0.02\u001b[39;49m\n\u001b[1;32m      9\u001b[0m N \u001b[38;5;241m=\u001b[39m \u001b[38;5;241m100\u001b[39m\n\u001b[1;32m     11\u001b[0m \u001b[38;5;66;03m# Your code here\u001b[39;00m\n",
      "\u001b[0;31mTypeError\u001b[0m: unsupported operand type(s) for *: 'NoneType' and 'float'"
     ]
    }
   ],
   "source": [
    "# this makes sure that you're using the latest version of your simulator\n",
    "reload(simulator)\n",
    "\n",
    "# pick a box size, initial kinetic energy and mass\n",
    "E = None\n",
    "size = None\n",
    "mass = None\n",
    "radius = size * 0.02\n",
    "N = 100\n",
    "\n",
    "# Your code here\n",
    "sim = simulator.Simulation(N=N, E=E, radius=radius, size=size, masses=mass, visualise=False)\n",
    "sim.run_simulation(10000)"
   ]
  },
  {
   "cell_type": "markdown",
   "id": "4091364e-cd99-4bd8-8bf5-6afebe7cc4a9",
   "metadata": {},
   "source": [
    "## 2a - "
   ]
  }
 ],
 "metadata": {
  "kernelspec": {
   "display_name": "Python 3 (ipykernel)",
   "language": "python",
   "name": "python3"
  },
  "language_info": {
   "codemirror_mode": {
    "name": "ipython",
    "version": 3
   },
   "file_extension": ".py",
   "mimetype": "text/x-python",
   "name": "python",
   "nbconvert_exporter": "python",
   "pygments_lexer": "ipython3",
   "version": "3.9.7"
  }
 },
 "nbformat": 4,
 "nbformat_minor": 5
}
